{
  "nbformat": 4,
  "nbformat_minor": 0,
  "metadata": {
    "colab": {
      "name": "scrape.ipynb",
      "provenance": [],
      "collapsed_sections": [],
      "authorship_tag": "ABX9TyPdvgCTQ/7bh++YUgvbZnlm",
      "include_colab_link": true
    },
    "kernelspec": {
      "name": "python3",
      "display_name": "Python 3"
    },
    "language_info": {
      "name": "python"
    }
  },
  "cells": [
    {
      "cell_type": "markdown",
      "metadata": {
        "id": "view-in-github",
        "colab_type": "text"
      },
      "source": [
        "<a href=\"https://colab.research.google.com/github/aryankumar10/amazon-scrape/blob/main/scrape.ipynb\" target=\"_parent\"><img src=\"https://colab.research.google.com/assets/colab-badge.svg\" alt=\"Open In Colab\"/></a>"
      ]
    },
    {
      "cell_type": "code",
      "execution_count": 1,
      "metadata": {
        "colab": {
          "base_uri": "https://localhost:8080/",
          "height": 380
        },
        "id": "dmuzaP-cckdh",
        "outputId": "4d519d99-fe05-41e0-b138-d5199af34bc2"
      },
      "outputs": [
        {
          "output_type": "error",
          "ename": "ModuleNotFoundError",
          "evalue": "ignored",
          "traceback": [
            "\u001b[0;31m---------------------------------------------------------------------------\u001b[0m",
            "\u001b[0;31mModuleNotFoundError\u001b[0m                       Traceback (most recent call last)",
            "\u001b[0;32m<ipython-input-1-f84d5f303890>\u001b[0m in \u001b[0;36m<module>\u001b[0;34m()\u001b[0m\n\u001b[0;32m----> 1\u001b[0;31m \u001b[0;32mfrom\u001b[0m \u001b[0mselenium\u001b[0m \u001b[0;32mimport\u001b[0m \u001b[0mwebdriver\u001b[0m\u001b[0;34m\u001b[0m\u001b[0;34m\u001b[0m\u001b[0m\n\u001b[0m\u001b[1;32m      2\u001b[0m \u001b[0;32mfrom\u001b[0m \u001b[0mselenium\u001b[0m\u001b[0;34m.\u001b[0m\u001b[0mwebdriver\u001b[0m\u001b[0;34m.\u001b[0m\u001b[0msupport\u001b[0m\u001b[0;34m.\u001b[0m\u001b[0mui\u001b[0m \u001b[0;32mimport\u001b[0m \u001b[0mWebDriverWait\u001b[0m\u001b[0;34m\u001b[0m\u001b[0;34m\u001b[0m\u001b[0m\n\u001b[1;32m      3\u001b[0m \u001b[0;32mfrom\u001b[0m \u001b[0mbs4\u001b[0m \u001b[0;32mimport\u001b[0m \u001b[0mBeautifulSoup\u001b[0m\u001b[0;34m\u001b[0m\u001b[0;34m\u001b[0m\u001b[0m\n\u001b[1;32m      4\u001b[0m \u001b[0;34m\u001b[0m\u001b[0m\n\u001b[1;32m      5\u001b[0m \u001b[0;32mimport\u001b[0m \u001b[0mjson\u001b[0m\u001b[0;34m\u001b[0m\u001b[0;34m\u001b[0m\u001b[0m\n",
            "\u001b[0;31mModuleNotFoundError\u001b[0m: No module named 'selenium'",
            "",
            "\u001b[0;31m---------------------------------------------------------------------------\u001b[0;32m\nNOTE: If your import is failing due to a missing package, you can\nmanually install dependencies using either !pip or !apt.\n\nTo view examples of installing some common dependencies, click the\n\"Open Examples\" button below.\n\u001b[0;31m---------------------------------------------------------------------------\u001b[0m\n"
          ],
          "errorDetails": {
            "actions": [
              {
                "action": "open_url",
                "actionText": "Open Examples",
                "url": "/notebooks/snippets/importing_libraries.ipynb"
              }
            ]
          }
        }
      ],
      "source": [
        "from selenium import webdriver\n",
        "from selenium.webdriver.support.ui import WebDriverWait\n",
        "from bs4 import BeautifulSoup\n",
        "\n",
        "import json\n",
        "import pandas as pd\n",
        "\n",
        "\n",
        "df = pd.read_csv('Amazon Scraping - Sheet1.csv')\n",
        "df.drop('Unnamed: 0', axis=1, inplace=True)\n",
        "Asin = df['Asin']\n",
        "country = df['country']\n",
        "d = {}\n",
        "na = []\n",
        "\n",
        "for i in range(len(df)):\n",
        "    url = 'https://www.amazon.{}/dp/{}'.format(country[i], Asin[i])\n",
        "    driver = webdriver.Chrome(\"chromedriver.exe\")\n",
        "    wait = WebDriverWait(driver, 10)\n",
        "    driver.get(url)\n",
        "    #driver.refresh()\n",
        "    html = driver.page_source\n",
        "    driver.close()\n",
        "    soup = BeautifulSoup(html, 'html.parser')\n",
        "    \n",
        "    #print('done')\n",
        "    \n",
        "    try:\n",
        "        title = soup.find(\"span\", {\"id\": \"productTitle\"}).get_text()\n",
        "        title = title.strip()\n",
        "        \n",
        "        img = soup.find(\"img\", {\"id\": \"imgBlkFront\"}).get('src')\n",
        "        \n",
        "        ul = soup.find(\"ul\", {\"class\": \"a-unordered-list a-nostyle a-vertical a-spacing-none detail-bullet-list\"})\n",
        "        data = ul.find_all(\"li\")\n",
        "        li = []\n",
        "        for item in data:\n",
        "            s = \"\"\n",
        "            for ele in item.text.split():\n",
        "                if ele=='\\u200f' or ele=='\\u200e':\n",
        "                    continue\n",
        "                s = s + ele + ' '\n",
        "            li.append(s.strip())\n",
        "        \n",
        "        try:\n",
        "            price = soup.find(\"span\", {\"id\": \"price\"}).get_text()\n",
        "            price = price.strip()\n",
        "            print(\"{} m1) TITLE :{} | PRICE :{} | IMG :{}\".format(i, title, price, img))\n",
        "            d[i] = {'title': title, 'price': price, 'img': img, 'details': li}\n",
        "        \n",
        "        except:\n",
        "            try:\n",
        "                a = soup.find(\"span\", {\"class\": \"a-size-base a-color-price a-color-price\"}).get_text()\n",
        "                price = a.strip()\n",
        "                print(\"{} m1) TITLE :{} | PRICE :{} | IMG :{}\".format(i, title, price, img))\n",
        "                d[i] = {'title': title, 'price': price, 'img': img, 'details': li}\n",
        "            \n",
        "            except:\n",
        "                try:\n",
        "                    a = soup.find_all(\"span\", {\"class\": \"a-color-base\"})\n",
        "                    price = a[1].get_text().strip()\n",
        "                    print(\"{} m1) TITLE :{} | PRICE :{} | IMG :{}\".format(i, title, price, img))\n",
        "                    d[i] = {'title': title, 'price': price, 'img': img, 'details': li}\n",
        "                    \n",
        "                except:\n",
        "                    try:\n",
        "                        price = soup.find(\"span\", {\"class\": \"a-offscreen\"}).get_text()\n",
        "                        price = price.strip()\n",
        "                        print(\"{} m1) TITLE :{} | PRICE :{} | IMG :{}\".format(i, title, price, img))\n",
        "                        d[i] = {'title': title, 'price': price, 'img': img, 'details': li}\n",
        "                    \n",
        "                    except:\n",
        "                        print(\"{}) NOT AVAILABLE | {}\".format(i, url))\n",
        "                        na.append(url)\n",
        "    except:\n",
        "        print(\"{}) NOT AVAILABLE | {}\".format(i, url))\n",
        "        na.append(url)\n",
        "    \n",
        "    if len(d) == 110:\n",
        "        break\n",
        "\n",
        "jsonDump = open(\"res.json\", \"w\")\n",
        "jsonDump.write(json.dumps(d))\n",
        "jsonDump.close()"
      ]
    }
  ]
}